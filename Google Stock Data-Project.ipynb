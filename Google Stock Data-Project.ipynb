{
 "cells": [
  {
   "cell_type": "markdown",
   "id": "46b7c30b",
   "metadata": {},
   "source": [
    "#                                      Google Stock Data Prediction"
   ]
  },
  {
   "cell_type": "markdown",
   "id": "ec40306b",
   "metadata": {},
   "source": [
    "# Importing the Required Libraries:"
   ]
  },
  {
   "cell_type": "code",
   "execution_count": 1,
   "id": "851acf85",
   "metadata": {},
   "outputs": [],
   "source": [
    "import numpy as np\n",
    "import pandas as pd\n",
    "import seaborn as sns\n",
    "%matplotlib inline\n",
    "import matplotlib.pyplot as plt\n",
    "\n",
    "import warnings\n",
    "warnings.filterwarnings('ignore')\n"
   ]
  },
  {
   "cell_type": "markdown",
   "id": "0aa1ab62",
   "metadata": {},
   "source": [
    "# Loading the data into Dataframe"
   ]
  },
  {
   "cell_type": "code",
   "execution_count": 2,
   "id": "df1e3d4c",
   "metadata": {},
   "outputs": [
    {
     "data": {
      "text/html": [
       "<div>\n",
       "<style scoped>\n",
       "    .dataframe tbody tr th:only-of-type {\n",
       "        vertical-align: middle;\n",
       "    }\n",
       "\n",
       "    .dataframe tbody tr th {\n",
       "        vertical-align: top;\n",
       "    }\n",
       "\n",
       "    .dataframe thead th {\n",
       "        text-align: right;\n",
       "    }\n",
       "</style>\n",
       "<table border=\"1\" class=\"dataframe\">\n",
       "  <thead>\n",
       "    <tr style=\"text-align: right;\">\n",
       "      <th></th>\n",
       "      <th>Date</th>\n",
       "      <th>Open</th>\n",
       "      <th>High</th>\n",
       "      <th>Low</th>\n",
       "      <th>Close</th>\n",
       "      <th>Adj Close</th>\n",
       "      <th>Volume</th>\n",
       "    </tr>\n",
       "  </thead>\n",
       "  <tbody>\n",
       "    <tr>\n",
       "      <th>0</th>\n",
       "      <td>2004-08-19</td>\n",
       "      <td>50.050049</td>\n",
       "      <td>52.082081</td>\n",
       "      <td>48.028027</td>\n",
       "      <td>50.220219</td>\n",
       "      <td>50.220219</td>\n",
       "      <td>44659096</td>\n",
       "    </tr>\n",
       "    <tr>\n",
       "      <th>1</th>\n",
       "      <td>2004-08-20</td>\n",
       "      <td>50.555557</td>\n",
       "      <td>54.594597</td>\n",
       "      <td>50.300301</td>\n",
       "      <td>54.209209</td>\n",
       "      <td>54.209209</td>\n",
       "      <td>22834343</td>\n",
       "    </tr>\n",
       "    <tr>\n",
       "      <th>2</th>\n",
       "      <td>2004-08-23</td>\n",
       "      <td>55.430431</td>\n",
       "      <td>56.796799</td>\n",
       "      <td>54.579578</td>\n",
       "      <td>54.754753</td>\n",
       "      <td>54.754753</td>\n",
       "      <td>18256126</td>\n",
       "    </tr>\n",
       "    <tr>\n",
       "      <th>3</th>\n",
       "      <td>2004-08-24</td>\n",
       "      <td>55.675674</td>\n",
       "      <td>55.855858</td>\n",
       "      <td>51.836838</td>\n",
       "      <td>52.487488</td>\n",
       "      <td>52.487488</td>\n",
       "      <td>15247337</td>\n",
       "    </tr>\n",
       "    <tr>\n",
       "      <th>4</th>\n",
       "      <td>2004-08-25</td>\n",
       "      <td>52.532532</td>\n",
       "      <td>54.054054</td>\n",
       "      <td>51.991993</td>\n",
       "      <td>53.053055</td>\n",
       "      <td>53.053055</td>\n",
       "      <td>9188602</td>\n",
       "    </tr>\n",
       "    <tr>\n",
       "      <th>...</th>\n",
       "      <td>...</td>\n",
       "      <td>...</td>\n",
       "      <td>...</td>\n",
       "      <td>...</td>\n",
       "      <td>...</td>\n",
       "      <td>...</td>\n",
       "      <td>...</td>\n",
       "    </tr>\n",
       "    <tr>\n",
       "      <th>4426</th>\n",
       "      <td>2022-03-18</td>\n",
       "      <td>2668.489990</td>\n",
       "      <td>2724.879883</td>\n",
       "      <td>2645.169922</td>\n",
       "      <td>2722.510010</td>\n",
       "      <td>2722.510010</td>\n",
       "      <td>2223100</td>\n",
       "    </tr>\n",
       "    <tr>\n",
       "      <th>4427</th>\n",
       "      <td>2022-03-21</td>\n",
       "      <td>2723.270020</td>\n",
       "      <td>2741.000000</td>\n",
       "      <td>2681.850098</td>\n",
       "      <td>2722.030029</td>\n",
       "      <td>2722.030029</td>\n",
       "      <td>1341600</td>\n",
       "    </tr>\n",
       "    <tr>\n",
       "      <th>4428</th>\n",
       "      <td>2022-03-22</td>\n",
       "      <td>2722.030029</td>\n",
       "      <td>2821.000000</td>\n",
       "      <td>2722.030029</td>\n",
       "      <td>2797.360107</td>\n",
       "      <td>2797.360107</td>\n",
       "      <td>1774800</td>\n",
       "    </tr>\n",
       "    <tr>\n",
       "      <th>4429</th>\n",
       "      <td>2022-03-23</td>\n",
       "      <td>2774.050049</td>\n",
       "      <td>2791.770020</td>\n",
       "      <td>2756.699951</td>\n",
       "      <td>2765.510010</td>\n",
       "      <td>2765.510010</td>\n",
       "      <td>1257700</td>\n",
       "    </tr>\n",
       "    <tr>\n",
       "      <th>4430</th>\n",
       "      <td>2022-03-24</td>\n",
       "      <td>2784.000000</td>\n",
       "      <td>2832.379883</td>\n",
       "      <td>2755.010010</td>\n",
       "      <td>2831.439941</td>\n",
       "      <td>2831.439941</td>\n",
       "      <td>1317900</td>\n",
       "    </tr>\n",
       "  </tbody>\n",
       "</table>\n",
       "<p>4431 rows × 7 columns</p>\n",
       "</div>"
      ],
      "text/plain": [
       "            Date         Open         High          Low        Close  \\\n",
       "0     2004-08-19    50.050049    52.082081    48.028027    50.220219   \n",
       "1     2004-08-20    50.555557    54.594597    50.300301    54.209209   \n",
       "2     2004-08-23    55.430431    56.796799    54.579578    54.754753   \n",
       "3     2004-08-24    55.675674    55.855858    51.836838    52.487488   \n",
       "4     2004-08-25    52.532532    54.054054    51.991993    53.053055   \n",
       "...          ...          ...          ...          ...          ...   \n",
       "4426  2022-03-18  2668.489990  2724.879883  2645.169922  2722.510010   \n",
       "4427  2022-03-21  2723.270020  2741.000000  2681.850098  2722.030029   \n",
       "4428  2022-03-22  2722.030029  2821.000000  2722.030029  2797.360107   \n",
       "4429  2022-03-23  2774.050049  2791.770020  2756.699951  2765.510010   \n",
       "4430  2022-03-24  2784.000000  2832.379883  2755.010010  2831.439941   \n",
       "\n",
       "        Adj Close    Volume  \n",
       "0       50.220219  44659096  \n",
       "1       54.209209  22834343  \n",
       "2       54.754753  18256126  \n",
       "3       52.487488  15247337  \n",
       "4       53.053055   9188602  \n",
       "...           ...       ...  \n",
       "4426  2722.510010   2223100  \n",
       "4427  2722.030029   1341600  \n",
       "4428  2797.360107   1774800  \n",
       "4429  2765.510010   1257700  \n",
       "4430  2831.439941   1317900  \n",
       "\n",
       "[4431 rows x 7 columns]"
      ]
     },
     "execution_count": 2,
     "metadata": {},
     "output_type": "execute_result"
    }
   ],
   "source": [
    "Stock_Data=pd.read_csv('google stock data.csv', sep=',')\n",
    "Stock_Data"
   ]
  },
  {
   "cell_type": "markdown",
   "id": "5973c21a",
   "metadata": {},
   "source": [
    "# Basic EDA"
   ]
  },
  {
   "cell_type": "code",
   "execution_count": 3,
   "id": "1963914c",
   "metadata": {},
   "outputs": [
    {
     "data": {
      "text/html": [
       "<div>\n",
       "<style scoped>\n",
       "    .dataframe tbody tr th:only-of-type {\n",
       "        vertical-align: middle;\n",
       "    }\n",
       "\n",
       "    .dataframe tbody tr th {\n",
       "        vertical-align: top;\n",
       "    }\n",
       "\n",
       "    .dataframe thead th {\n",
       "        text-align: right;\n",
       "    }\n",
       "</style>\n",
       "<table border=\"1\" class=\"dataframe\">\n",
       "  <thead>\n",
       "    <tr style=\"text-align: right;\">\n",
       "      <th></th>\n",
       "      <th>Date</th>\n",
       "      <th>Open</th>\n",
       "      <th>High</th>\n",
       "      <th>Low</th>\n",
       "      <th>Close</th>\n",
       "      <th>Adj Close</th>\n",
       "      <th>Volume</th>\n",
       "    </tr>\n",
       "  </thead>\n",
       "  <tbody>\n",
       "    <tr>\n",
       "      <th>0</th>\n",
       "      <td>2004-08-19</td>\n",
       "      <td>50.050049</td>\n",
       "      <td>52.082081</td>\n",
       "      <td>48.028027</td>\n",
       "      <td>50.220219</td>\n",
       "      <td>50.220219</td>\n",
       "      <td>44659096</td>\n",
       "    </tr>\n",
       "    <tr>\n",
       "      <th>1</th>\n",
       "      <td>2004-08-20</td>\n",
       "      <td>50.555557</td>\n",
       "      <td>54.594597</td>\n",
       "      <td>50.300301</td>\n",
       "      <td>54.209209</td>\n",
       "      <td>54.209209</td>\n",
       "      <td>22834343</td>\n",
       "    </tr>\n",
       "    <tr>\n",
       "      <th>2</th>\n",
       "      <td>2004-08-23</td>\n",
       "      <td>55.430431</td>\n",
       "      <td>56.796799</td>\n",
       "      <td>54.579578</td>\n",
       "      <td>54.754753</td>\n",
       "      <td>54.754753</td>\n",
       "      <td>18256126</td>\n",
       "    </tr>\n",
       "    <tr>\n",
       "      <th>3</th>\n",
       "      <td>2004-08-24</td>\n",
       "      <td>55.675674</td>\n",
       "      <td>55.855858</td>\n",
       "      <td>51.836838</td>\n",
       "      <td>52.487488</td>\n",
       "      <td>52.487488</td>\n",
       "      <td>15247337</td>\n",
       "    </tr>\n",
       "    <tr>\n",
       "      <th>4</th>\n",
       "      <td>2004-08-25</td>\n",
       "      <td>52.532532</td>\n",
       "      <td>54.054054</td>\n",
       "      <td>51.991993</td>\n",
       "      <td>53.053055</td>\n",
       "      <td>53.053055</td>\n",
       "      <td>9188602</td>\n",
       "    </tr>\n",
       "  </tbody>\n",
       "</table>\n",
       "</div>"
      ],
      "text/plain": [
       "         Date       Open       High        Low      Close  Adj Close    Volume\n",
       "0  2004-08-19  50.050049  52.082081  48.028027  50.220219  50.220219  44659096\n",
       "1  2004-08-20  50.555557  54.594597  50.300301  54.209209  54.209209  22834343\n",
       "2  2004-08-23  55.430431  56.796799  54.579578  54.754753  54.754753  18256126\n",
       "3  2004-08-24  55.675674  55.855858  51.836838  52.487488  52.487488  15247337\n",
       "4  2004-08-25  52.532532  54.054054  51.991993  53.053055  53.053055   9188602"
      ]
     },
     "execution_count": 3,
     "metadata": {},
     "output_type": "execute_result"
    }
   ],
   "source": [
    "Stock_Data.head() # By default it will first  5 rows of dataset."
   ]
  },
  {
   "cell_type": "code",
   "execution_count": 4,
   "id": "90442ce0",
   "metadata": {},
   "outputs": [
    {
     "data": {
      "text/html": [
       "<div>\n",
       "<style scoped>\n",
       "    .dataframe tbody tr th:only-of-type {\n",
       "        vertical-align: middle;\n",
       "    }\n",
       "\n",
       "    .dataframe tbody tr th {\n",
       "        vertical-align: top;\n",
       "    }\n",
       "\n",
       "    .dataframe thead th {\n",
       "        text-align: right;\n",
       "    }\n",
       "</style>\n",
       "<table border=\"1\" class=\"dataframe\">\n",
       "  <thead>\n",
       "    <tr style=\"text-align: right;\">\n",
       "      <th></th>\n",
       "      <th>Date</th>\n",
       "      <th>Open</th>\n",
       "      <th>High</th>\n",
       "      <th>Low</th>\n",
       "      <th>Close</th>\n",
       "      <th>Adj Close</th>\n",
       "      <th>Volume</th>\n",
       "    </tr>\n",
       "  </thead>\n",
       "  <tbody>\n",
       "    <tr>\n",
       "      <th>4426</th>\n",
       "      <td>2022-03-18</td>\n",
       "      <td>2668.489990</td>\n",
       "      <td>2724.879883</td>\n",
       "      <td>2645.169922</td>\n",
       "      <td>2722.510010</td>\n",
       "      <td>2722.510010</td>\n",
       "      <td>2223100</td>\n",
       "    </tr>\n",
       "    <tr>\n",
       "      <th>4427</th>\n",
       "      <td>2022-03-21</td>\n",
       "      <td>2723.270020</td>\n",
       "      <td>2741.000000</td>\n",
       "      <td>2681.850098</td>\n",
       "      <td>2722.030029</td>\n",
       "      <td>2722.030029</td>\n",
       "      <td>1341600</td>\n",
       "    </tr>\n",
       "    <tr>\n",
       "      <th>4428</th>\n",
       "      <td>2022-03-22</td>\n",
       "      <td>2722.030029</td>\n",
       "      <td>2821.000000</td>\n",
       "      <td>2722.030029</td>\n",
       "      <td>2797.360107</td>\n",
       "      <td>2797.360107</td>\n",
       "      <td>1774800</td>\n",
       "    </tr>\n",
       "    <tr>\n",
       "      <th>4429</th>\n",
       "      <td>2022-03-23</td>\n",
       "      <td>2774.050049</td>\n",
       "      <td>2791.770020</td>\n",
       "      <td>2756.699951</td>\n",
       "      <td>2765.510010</td>\n",
       "      <td>2765.510010</td>\n",
       "      <td>1257700</td>\n",
       "    </tr>\n",
       "    <tr>\n",
       "      <th>4430</th>\n",
       "      <td>2022-03-24</td>\n",
       "      <td>2784.000000</td>\n",
       "      <td>2832.379883</td>\n",
       "      <td>2755.010010</td>\n",
       "      <td>2831.439941</td>\n",
       "      <td>2831.439941</td>\n",
       "      <td>1317900</td>\n",
       "    </tr>\n",
       "  </tbody>\n",
       "</table>\n",
       "</div>"
      ],
      "text/plain": [
       "            Date         Open         High          Low        Close  \\\n",
       "4426  2022-03-18  2668.489990  2724.879883  2645.169922  2722.510010   \n",
       "4427  2022-03-21  2723.270020  2741.000000  2681.850098  2722.030029   \n",
       "4428  2022-03-22  2722.030029  2821.000000  2722.030029  2797.360107   \n",
       "4429  2022-03-23  2774.050049  2791.770020  2756.699951  2765.510010   \n",
       "4430  2022-03-24  2784.000000  2832.379883  2755.010010  2831.439941   \n",
       "\n",
       "        Adj Close   Volume  \n",
       "4426  2722.510010  2223100  \n",
       "4427  2722.030029  1341600  \n",
       "4428  2797.360107  1774800  \n",
       "4429  2765.510010  1257700  \n",
       "4430  2831.439941  1317900  "
      ]
     },
     "execution_count": 4,
     "metadata": {},
     "output_type": "execute_result"
    }
   ],
   "source": [
    "Stock_Data.tail() # By default it will shows Last 5 rows of dataset."
   ]
  },
  {
   "cell_type": "code",
   "execution_count": 5,
   "id": "b6854ef3",
   "metadata": {},
   "outputs": [
    {
     "data": {
      "text/plain": [
       "(4431, 7)"
      ]
     },
     "execution_count": 5,
     "metadata": {},
     "output_type": "execute_result"
    }
   ],
   "source": [
    "Stock_Data.shape   # 4431 Rows & 7 Columns"
   ]
  },
  {
   "cell_type": "code",
   "execution_count": 6,
   "id": "c72d78da",
   "metadata": {},
   "outputs": [
    {
     "data": {
      "text/plain": [
       "Index(['Date', 'Open', 'High', 'Low', 'Close', 'Adj Close', 'Volume'], dtype='object')"
      ]
     },
     "execution_count": 6,
     "metadata": {},
     "output_type": "execute_result"
    }
   ],
   "source": [
    "Stock_Data.columns # it will shows all columns name present in dataset."
   ]
  },
  {
   "cell_type": "markdown",
   "id": "628febde",
   "metadata": {},
   "source": [
    "# Checking the Data types of each column"
   ]
  },
  {
   "cell_type": "code",
   "execution_count": 7,
   "id": "e9fed0a8",
   "metadata": {},
   "outputs": [],
   "source": [
    "#Here we check the datatypes because sometimes any numeric data would be stored as string.\n",
    "# If in that case,We have to convert that string to integer data only then we can plot the data via graph."
   ]
  },
  {
   "cell_type": "code",
   "execution_count": 8,
   "id": "ec9bfed7",
   "metadata": {},
   "outputs": [
    {
     "data": {
      "text/plain": [
       "Date          object\n",
       "Open         float64\n",
       "High         float64\n",
       "Low          float64\n",
       "Close        float64\n",
       "Adj Close    float64\n",
       "Volume         int64\n",
       "dtype: object"
      ]
     },
     "execution_count": 8,
     "metadata": {},
     "output_type": "execute_result"
    }
   ],
   "source": [
    "Stock_Data.dtypes  # it will shows data type of each column."
   ]
  },
  {
   "cell_type": "code",
   "execution_count": 9,
   "id": "5d9c11cc",
   "metadata": {},
   "outputs": [
    {
     "data": {
      "text/html": [
       "<div>\n",
       "<style scoped>\n",
       "    .dataframe tbody tr th:only-of-type {\n",
       "        vertical-align: middle;\n",
       "    }\n",
       "\n",
       "    .dataframe tbody tr th {\n",
       "        vertical-align: top;\n",
       "    }\n",
       "\n",
       "    .dataframe thead th {\n",
       "        text-align: right;\n",
       "    }\n",
       "</style>\n",
       "<table border=\"1\" class=\"dataframe\">\n",
       "  <thead>\n",
       "    <tr style=\"text-align: right;\">\n",
       "      <th></th>\n",
       "      <th>Open</th>\n",
       "      <th>High</th>\n",
       "      <th>Low</th>\n",
       "      <th>Close</th>\n",
       "      <th>Adj Close</th>\n",
       "      <th>Volume</th>\n",
       "    </tr>\n",
       "  </thead>\n",
       "  <tbody>\n",
       "    <tr>\n",
       "      <th>count</th>\n",
       "      <td>4431.000000</td>\n",
       "      <td>4431.000000</td>\n",
       "      <td>4431.000000</td>\n",
       "      <td>4431.000000</td>\n",
       "      <td>4431.000000</td>\n",
       "      <td>4.431000e+03</td>\n",
       "    </tr>\n",
       "    <tr>\n",
       "      <th>mean</th>\n",
       "      <td>693.087345</td>\n",
       "      <td>699.735595</td>\n",
       "      <td>686.078751</td>\n",
       "      <td>693.097367</td>\n",
       "      <td>693.097367</td>\n",
       "      <td>6.444992e+06</td>\n",
       "    </tr>\n",
       "    <tr>\n",
       "      <th>std</th>\n",
       "      <td>645.118799</td>\n",
       "      <td>651.331215</td>\n",
       "      <td>638.579488</td>\n",
       "      <td>645.187806</td>\n",
       "      <td>645.187806</td>\n",
       "      <td>7.690351e+06</td>\n",
       "    </tr>\n",
       "    <tr>\n",
       "      <th>min</th>\n",
       "      <td>49.644646</td>\n",
       "      <td>50.920921</td>\n",
       "      <td>48.028027</td>\n",
       "      <td>50.055054</td>\n",
       "      <td>50.055054</td>\n",
       "      <td>4.656000e+05</td>\n",
       "    </tr>\n",
       "    <tr>\n",
       "      <th>25%</th>\n",
       "      <td>248.558563</td>\n",
       "      <td>250.853355</td>\n",
       "      <td>245.813309</td>\n",
       "      <td>248.415916</td>\n",
       "      <td>248.415916</td>\n",
       "      <td>1.695600e+06</td>\n",
       "    </tr>\n",
       "    <tr>\n",
       "      <th>50%</th>\n",
       "      <td>434.924927</td>\n",
       "      <td>437.887878</td>\n",
       "      <td>432.687683</td>\n",
       "      <td>435.330322</td>\n",
       "      <td>435.330322</td>\n",
       "      <td>3.778418e+06</td>\n",
       "    </tr>\n",
       "    <tr>\n",
       "      <th>75%</th>\n",
       "      <td>1007.364990</td>\n",
       "      <td>1020.649994</td>\n",
       "      <td>997.274994</td>\n",
       "      <td>1007.790008</td>\n",
       "      <td>1007.790008</td>\n",
       "      <td>8.002390e+06</td>\n",
       "    </tr>\n",
       "    <tr>\n",
       "      <th>max</th>\n",
       "      <td>3025.000000</td>\n",
       "      <td>3030.929932</td>\n",
       "      <td>2977.979980</td>\n",
       "      <td>2996.770020</td>\n",
       "      <td>2996.770020</td>\n",
       "      <td>8.215117e+07</td>\n",
       "    </tr>\n",
       "  </tbody>\n",
       "</table>\n",
       "</div>"
      ],
      "text/plain": [
       "              Open         High          Low        Close    Adj Close  \\\n",
       "count  4431.000000  4431.000000  4431.000000  4431.000000  4431.000000   \n",
       "mean    693.087345   699.735595   686.078751   693.097367   693.097367   \n",
       "std     645.118799   651.331215   638.579488   645.187806   645.187806   \n",
       "min      49.644646    50.920921    48.028027    50.055054    50.055054   \n",
       "25%     248.558563   250.853355   245.813309   248.415916   248.415916   \n",
       "50%     434.924927   437.887878   432.687683   435.330322   435.330322   \n",
       "75%    1007.364990  1020.649994   997.274994  1007.790008  1007.790008   \n",
       "max    3025.000000  3030.929932  2977.979980  2996.770020  2996.770020   \n",
       "\n",
       "             Volume  \n",
       "count  4.431000e+03  \n",
       "mean   6.444992e+06  \n",
       "std    7.690351e+06  \n",
       "min    4.656000e+05  \n",
       "25%    1.695600e+06  \n",
       "50%    3.778418e+06  \n",
       "75%    8.002390e+06  \n",
       "max    8.215117e+07  "
      ]
     },
     "execution_count": 9,
     "metadata": {},
     "output_type": "execute_result"
    }
   ],
   "source": [
    "Stock_Data.describe() # It will give the Staticstical information about the data\n",
    "                      # It will give info of numerical columns only."
   ]
  },
  {
   "cell_type": "code",
   "execution_count": 10,
   "id": "abb9c3a0",
   "metadata": {},
   "outputs": [
    {
     "data": {
      "text/plain": [
       "Date        Open         High         Low          Close        Adj Close    Volume  \n",
       "2004-08-19  50.050049    52.082081    48.028027    50.220219    50.220219    44659096    1\n",
       "2016-05-11  740.520020   740.799988   727.900024   730.549988   730.549988   1491700     1\n",
       "2016-05-19  718.299988   720.500000   710.309998   715.309998   715.309998   1529900     1\n",
       "2016-05-18  718.500000   725.570007   715.020020   721.780029   721.780029   1626800     1\n",
       "2016-05-17  731.059998   735.849976   718.000000   720.190002   720.190002   1670200     1\n",
       "                                                                                        ..\n",
       "2010-07-09  236.216217   236.866867   231.621628   233.978973   233.978973   8654337     1\n",
       "2010-07-12  236.421417   239.959961   235.775772   238.153152   238.153152   6662131     1\n",
       "2010-07-13  241.366364   246.741745   240.380386   244.844849   244.844849   7944647     1\n",
       "2010-07-14  245.185181   247.162155   243.473480   245.915909   245.915909   6229764     1\n",
       "2022-03-24  2784.000000  2832.379883  2755.010010  2831.439941  2831.439941  1317900     1\n",
       "Length: 4431, dtype: int64"
      ]
     },
     "execution_count": 10,
     "metadata": {},
     "output_type": "execute_result"
    }
   ],
   "source": [
    "Stock_Data.value_counts() #function return a Series containing counts of unique values"
   ]
  },
  {
   "cell_type": "markdown",
   "id": "77ac9694",
   "metadata": {},
   "source": [
    "# Dropping the Irrelevant Columns:"
   ]
  },
  {
   "cell_type": "code",
   "execution_count": 11,
   "id": "e7c4a9fc",
   "metadata": {},
   "outputs": [],
   "source": [
    "#Columns that are not being used for further analysis, then we can drop them"
   ]
  },
  {
   "cell_type": "code",
   "execution_count": 12,
   "id": "990cf098",
   "metadata": {},
   "outputs": [],
   "source": [
    "Stock_Data.drop('Adj Close', axis=1, inplace=True)"
   ]
  },
  {
   "cell_type": "code",
   "execution_count": 13,
   "id": "9ad3ab37",
   "metadata": {},
   "outputs": [
    {
     "data": {
      "text/html": [
       "<div>\n",
       "<style scoped>\n",
       "    .dataframe tbody tr th:only-of-type {\n",
       "        vertical-align: middle;\n",
       "    }\n",
       "\n",
       "    .dataframe tbody tr th {\n",
       "        vertical-align: top;\n",
       "    }\n",
       "\n",
       "    .dataframe thead th {\n",
       "        text-align: right;\n",
       "    }\n",
       "</style>\n",
       "<table border=\"1\" class=\"dataframe\">\n",
       "  <thead>\n",
       "    <tr style=\"text-align: right;\">\n",
       "      <th></th>\n",
       "      <th>Date</th>\n",
       "      <th>Open</th>\n",
       "      <th>High</th>\n",
       "      <th>Low</th>\n",
       "      <th>Close</th>\n",
       "      <th>Volume</th>\n",
       "    </tr>\n",
       "  </thead>\n",
       "  <tbody>\n",
       "    <tr>\n",
       "      <th>0</th>\n",
       "      <td>2004-08-19</td>\n",
       "      <td>50.050049</td>\n",
       "      <td>52.082081</td>\n",
       "      <td>48.028027</td>\n",
       "      <td>50.220219</td>\n",
       "      <td>44659096</td>\n",
       "    </tr>\n",
       "    <tr>\n",
       "      <th>1</th>\n",
       "      <td>2004-08-20</td>\n",
       "      <td>50.555557</td>\n",
       "      <td>54.594597</td>\n",
       "      <td>50.300301</td>\n",
       "      <td>54.209209</td>\n",
       "      <td>22834343</td>\n",
       "    </tr>\n",
       "    <tr>\n",
       "      <th>2</th>\n",
       "      <td>2004-08-23</td>\n",
       "      <td>55.430431</td>\n",
       "      <td>56.796799</td>\n",
       "      <td>54.579578</td>\n",
       "      <td>54.754753</td>\n",
       "      <td>18256126</td>\n",
       "    </tr>\n",
       "    <tr>\n",
       "      <th>3</th>\n",
       "      <td>2004-08-24</td>\n",
       "      <td>55.675674</td>\n",
       "      <td>55.855858</td>\n",
       "      <td>51.836838</td>\n",
       "      <td>52.487488</td>\n",
       "      <td>15247337</td>\n",
       "    </tr>\n",
       "    <tr>\n",
       "      <th>4</th>\n",
       "      <td>2004-08-25</td>\n",
       "      <td>52.532532</td>\n",
       "      <td>54.054054</td>\n",
       "      <td>51.991993</td>\n",
       "      <td>53.053055</td>\n",
       "      <td>9188602</td>\n",
       "    </tr>\n",
       "    <tr>\n",
       "      <th>...</th>\n",
       "      <td>...</td>\n",
       "      <td>...</td>\n",
       "      <td>...</td>\n",
       "      <td>...</td>\n",
       "      <td>...</td>\n",
       "      <td>...</td>\n",
       "    </tr>\n",
       "    <tr>\n",
       "      <th>4426</th>\n",
       "      <td>2022-03-18</td>\n",
       "      <td>2668.489990</td>\n",
       "      <td>2724.879883</td>\n",
       "      <td>2645.169922</td>\n",
       "      <td>2722.510010</td>\n",
       "      <td>2223100</td>\n",
       "    </tr>\n",
       "    <tr>\n",
       "      <th>4427</th>\n",
       "      <td>2022-03-21</td>\n",
       "      <td>2723.270020</td>\n",
       "      <td>2741.000000</td>\n",
       "      <td>2681.850098</td>\n",
       "      <td>2722.030029</td>\n",
       "      <td>1341600</td>\n",
       "    </tr>\n",
       "    <tr>\n",
       "      <th>4428</th>\n",
       "      <td>2022-03-22</td>\n",
       "      <td>2722.030029</td>\n",
       "      <td>2821.000000</td>\n",
       "      <td>2722.030029</td>\n",
       "      <td>2797.360107</td>\n",
       "      <td>1774800</td>\n",
       "    </tr>\n",
       "    <tr>\n",
       "      <th>4429</th>\n",
       "      <td>2022-03-23</td>\n",
       "      <td>2774.050049</td>\n",
       "      <td>2791.770020</td>\n",
       "      <td>2756.699951</td>\n",
       "      <td>2765.510010</td>\n",
       "      <td>1257700</td>\n",
       "    </tr>\n",
       "    <tr>\n",
       "      <th>4430</th>\n",
       "      <td>2022-03-24</td>\n",
       "      <td>2784.000000</td>\n",
       "      <td>2832.379883</td>\n",
       "      <td>2755.010010</td>\n",
       "      <td>2831.439941</td>\n",
       "      <td>1317900</td>\n",
       "    </tr>\n",
       "  </tbody>\n",
       "</table>\n",
       "<p>4431 rows × 6 columns</p>\n",
       "</div>"
      ],
      "text/plain": [
       "            Date         Open         High          Low        Close    Volume\n",
       "0     2004-08-19    50.050049    52.082081    48.028027    50.220219  44659096\n",
       "1     2004-08-20    50.555557    54.594597    50.300301    54.209209  22834343\n",
       "2     2004-08-23    55.430431    56.796799    54.579578    54.754753  18256126\n",
       "3     2004-08-24    55.675674    55.855858    51.836838    52.487488  15247337\n",
       "4     2004-08-25    52.532532    54.054054    51.991993    53.053055   9188602\n",
       "...          ...          ...          ...          ...          ...       ...\n",
       "4426  2022-03-18  2668.489990  2724.879883  2645.169922  2722.510010   2223100\n",
       "4427  2022-03-21  2723.270020  2741.000000  2681.850098  2722.030029   1341600\n",
       "4428  2022-03-22  2722.030029  2821.000000  2722.030029  2797.360107   1774800\n",
       "4429  2022-03-23  2774.050049  2791.770020  2756.699951  2765.510010   1257700\n",
       "4430  2022-03-24  2784.000000  2832.379883  2755.010010  2831.439941   1317900\n",
       "\n",
       "[4431 rows x 6 columns]"
      ]
     },
     "execution_count": 13,
     "metadata": {},
     "output_type": "execute_result"
    }
   ],
   "source": [
    "Stock_Data"
   ]
  },
  {
   "cell_type": "markdown",
   "id": "80791c2c",
   "metadata": {},
   "source": [
    "# Remove all the Outliers if exists in the dataset:"
   ]
  },
  {
   "cell_type": "code",
   "execution_count": 14,
   "id": "decc383d",
   "metadata": {},
   "outputs": [
    {
     "data": {
      "text/plain": [
       "(4431, 6)"
      ]
     },
     "execution_count": 14,
     "metadata": {},
     "output_type": "execute_result"
    },
    {
     "data": {
      "image/png": "[encoded data removed]",
      "text/plain": [
       "<Figure size 432x288 with 1 Axes>"
      ]
     },
     "metadata": {
      "needs_background": "light"
     },
     "output_type": "display_data"
    },
    {
     "data": {
      "image/png": "[encoded data removed]",
      "text/plain": [
       "<Figure size 432x288 with 1 Axes>"
      ]
     },
     "metadata": {
      "needs_background": "light"
     },
     "output_type": "display_data"
    }
   ],
   "source": [
    "#plotting the boxplot to detect outliers.\n",
    "Stock_Data[['Open','High','Low','Close',]].plot(kind='box')\n",
    "Stock_Data[['Volume']].plot(kind='box')\n",
    "Stock_Data.shape"
   ]
  },
  {
   "cell_type": "code",
   "execution_count": 15,
   "id": "57d37d4f",
   "metadata": {},
   "outputs": [
    {
     "name": "stdout",
     "output_type": "stream",
     "text": [
      "Open      7.588064e+02\n",
      "High      7.697966e+02\n",
      "Low       7.514617e+02\n",
      "Close     7.593741e+02\n",
      "Volume    6.306790e+06\n",
      "dtype: float64\n"
     ]
    }
   ],
   "source": [
    "# Detecting oulires from entire dataset using Inter Quantile Range(IQR)\n",
    "\n",
    "Q1=Stock_Data.quantile(0.25)  #Q1 represents the 25th percentile of the data.\n",
    "\n",
    "Q3=Stock_Data.quantile(0.75)  #Q3 represents the 75th percentile of the data.\n",
    "\n",
    "IQR=Q3-Q1 # Inter Quantile Range\n",
    "\n",
    "print(IQR)"
   ]
  },
  {
   "cell_type": "code",
   "execution_count": 16,
   "id": "8a187eab",
   "metadata": {},
   "outputs": [
    {
     "data": {
      "text/plain": [
       "(3861, 6)"
      ]
     },
     "execution_count": 16,
     "metadata": {},
     "output_type": "execute_result"
    }
   ],
   "source": [
    "# remove the Ouliers from entire dataset\n",
    "Stock_Data=Stock_Data[~((Stock_Data<(Q1-1.5*IQR))|(Stock_Data>(Q3+1.5*IQR))).any(axis=1)]\n",
    "Stock_Data.shape"
   ]
  },
  {
   "cell_type": "code",
   "execution_count": 17,
   "id": "9351b874",
   "metadata": {},
   "outputs": [
    {
     "data": {
      "text/plain": [
       "<AxesSubplot:>"
      ]
     },
     "execution_count": 17,
     "metadata": {},
     "output_type": "execute_result"
    },
    {
     "data": {
      "image/png": "[encoded data removed]",
      "text/plain": [
       "<Figure size 432x288 with 1 Axes>"
      ]
     },
     "metadata": {
      "needs_background": "light"
     },
     "output_type": "display_data"
    },
    {
     "data": {
      "image/png": "[encoded data removed]",
      "text/plain": [
       "<Figure size 432x288 with 1 Axes>"
      ]
     },
     "metadata": {
      "needs_background": "light"
     },
     "output_type": "display_data"
    }
   ],
   "source": [
    "#plotting the boxplot\n",
    "Stock_Data[['Open','High','Low','Close',]].plot(kind='box')\n",
    "Stock_Data[['Volume']].plot(kind='box')"
   ]
  },
  {
   "cell_type": "code",
   "execution_count": 18,
   "id": "303ac5e6",
   "metadata": {},
   "outputs": [],
   "source": [
    "Stock_Data['Date']=pd.to_datetime(Stock_Data.Date)"
   ]
  },
  {
   "cell_type": "code",
   "execution_count": 19,
   "id": "ab671825",
   "metadata": {},
   "outputs": [
    {
     "data": {
      "text/plain": [
       "Date      datetime64[ns]\n",
       "Open             float64\n",
       "High             float64\n",
       "Low              float64\n",
       "Close            float64\n",
       "Volume             int64\n",
       "dtype: object"
      ]
     },
     "execution_count": 19,
     "metadata": {},
     "output_type": "execute_result"
    }
   ],
   "source": [
    "Stock_Data.dtypes"
   ]
  },
  {
   "cell_type": "markdown",
   "id": "3b4ecc09",
   "metadata": {},
   "source": [
    "# Checking the duplicate rows in the dataset "
   ]
  },
  {
   "cell_type": "code",
   "execution_count": 20,
   "id": "7fde3564",
   "metadata": {},
   "outputs": [
    {
     "data": {
      "text/html": [
       "<div>\n",
       "<style scoped>\n",
       "    .dataframe tbody tr th:only-of-type {\n",
       "        vertical-align: middle;\n",
       "    }\n",
       "\n",
       "    .dataframe tbody tr th {\n",
       "        vertical-align: top;\n",
       "    }\n",
       "\n",
       "    .dataframe thead th {\n",
       "        text-align: right;\n",
       "    }\n",
       "</style>\n",
       "<table border=\"1\" class=\"dataframe\">\n",
       "  <thead>\n",
       "    <tr style=\"text-align: right;\">\n",
       "      <th></th>\n",
       "      <th>Date</th>\n",
       "      <th>Open</th>\n",
       "      <th>High</th>\n",
       "      <th>Low</th>\n",
       "      <th>Close</th>\n",
       "      <th>Volume</th>\n",
       "    </tr>\n",
       "  </thead>\n",
       "  <tbody>\n",
       "  </tbody>\n",
       "</table>\n",
       "</div>"
      ],
      "text/plain": [
       "Empty DataFrame\n",
       "Columns: [Date, Open, High, Low, Close, Volume]\n",
       "Index: []"
      ]
     },
     "execution_count": 20,
     "metadata": {},
     "output_type": "execute_result"
    }
   ],
   "source": [
    "duplicate_rows=Stock_Data[Stock_Data.duplicated()]\n",
    "duplicate_rows"
   ]
  },
  {
   "cell_type": "markdown",
   "id": "dfd35e3f",
   "metadata": {},
   "source": [
    "Here we can see that ,there is no duplicate rows present in the dataset.If duplicate data was present in our dataset in large amount,then we have remove it."
   ]
  },
  {
   "cell_type": "markdown",
   "id": "9364b667",
   "metadata": {},
   "source": [
    "# Handling Missing Values:"
   ]
  },
  {
   "cell_type": "code",
   "execution_count": 21,
   "id": "8141b813",
   "metadata": {},
   "outputs": [
    {
     "data": {
      "text/plain": [
       "Date      0\n",
       "Open      0\n",
       "High      0\n",
       "Low       0\n",
       "Close     0\n",
       "Volume    0\n",
       "dtype: int64"
      ]
     },
     "execution_count": 21,
     "metadata": {},
     "output_type": "execute_result"
    }
   ],
   "source": [
    "#checking the count of null values\n",
    "\n",
    "Stock_Data.isnull().sum()"
   ]
  },
  {
   "cell_type": "markdown",
   "id": "f09d0bea",
   "metadata": {},
   "source": [
    "Here we can see that there is no Null value is present in any column of the dataset."
   ]
  },
  {
   "cell_type": "markdown",
   "id": "5b0fd81d",
   "metadata": {},
   "source": [
    "# Handling the skewness if exists in dataset"
   ]
  },
  {
   "cell_type": "markdown",
   "id": "fb169ad1",
   "metadata": {},
   "source": [
    "The shape describe the type of graph"
   ]
  },
  {
   "cell_type": "code",
   "execution_count": 22,
   "id": "739450bf",
   "metadata": {},
   "outputs": [],
   "source": [
    "from scipy.stats import skew"
   ]
  },
  {
   "cell_type": "code",
   "execution_count": 23,
   "id": "b364c26a",
   "metadata": {},
   "outputs": [
    {
     "data": {
      "text/html": [
       "<div>\n",
       "<style scoped>\n",
       "    .dataframe tbody tr th:only-of-type {\n",
       "        vertical-align: middle;\n",
       "    }\n",
       "\n",
       "    .dataframe tbody tr th {\n",
       "        vertical-align: top;\n",
       "    }\n",
       "\n",
       "    .dataframe thead th {\n",
       "        text-align: right;\n",
       "    }\n",
       "</style>\n",
       "<table border=\"1\" class=\"dataframe\">\n",
       "  <thead>\n",
       "    <tr style=\"text-align: right;\">\n",
       "      <th></th>\n",
       "      <th>Date</th>\n",
       "      <th>Open</th>\n",
       "      <th>High</th>\n",
       "      <th>Low</th>\n",
       "      <th>Close</th>\n",
       "      <th>Volume</th>\n",
       "    </tr>\n",
       "  </thead>\n",
       "  <tbody>\n",
       "    <tr>\n",
       "      <th>3</th>\n",
       "      <td>2004-08-24</td>\n",
       "      <td>55.675674</td>\n",
       "      <td>55.855858</td>\n",
       "      <td>51.836838</td>\n",
       "      <td>52.487488</td>\n",
       "      <td>15247337</td>\n",
       "    </tr>\n",
       "    <tr>\n",
       "      <th>4</th>\n",
       "      <td>2004-08-25</td>\n",
       "      <td>52.532532</td>\n",
       "      <td>54.054054</td>\n",
       "      <td>51.991993</td>\n",
       "      <td>53.053055</td>\n",
       "      <td>9188602</td>\n",
       "    </tr>\n",
       "    <tr>\n",
       "      <th>5</th>\n",
       "      <td>2004-08-26</td>\n",
       "      <td>52.527527</td>\n",
       "      <td>54.029030</td>\n",
       "      <td>52.382381</td>\n",
       "      <td>54.009010</td>\n",
       "      <td>7094898</td>\n",
       "    </tr>\n",
       "    <tr>\n",
       "      <th>6</th>\n",
       "      <td>2004-08-27</td>\n",
       "      <td>54.104103</td>\n",
       "      <td>54.364365</td>\n",
       "      <td>52.897900</td>\n",
       "      <td>53.128128</td>\n",
       "      <td>6211782</td>\n",
       "    </tr>\n",
       "    <tr>\n",
       "      <th>7</th>\n",
       "      <td>2004-08-30</td>\n",
       "      <td>52.692692</td>\n",
       "      <td>52.797798</td>\n",
       "      <td>51.056057</td>\n",
       "      <td>51.056057</td>\n",
       "      <td>5196798</td>\n",
       "    </tr>\n",
       "  </tbody>\n",
       "</table>\n",
       "</div>"
      ],
      "text/plain": [
       "        Date       Open       High        Low      Close    Volume\n",
       "3 2004-08-24  55.675674  55.855858  51.836838  52.487488  15247337\n",
       "4 2004-08-25  52.532532  54.054054  51.991993  53.053055   9188602\n",
       "5 2004-08-26  52.527527  54.029030  52.382381  54.009010   7094898\n",
       "6 2004-08-27  54.104103  54.364365  52.897900  53.128128   6211782\n",
       "7 2004-08-30  52.692692  52.797798  51.056057  51.056057   5196798"
      ]
     },
     "execution_count": 23,
     "metadata": {},
     "output_type": "execute_result"
    }
   ],
   "source": [
    "Stock_Data.head()"
   ]
  },
  {
   "cell_type": "markdown",
   "id": "37a97195",
   "metadata": {},
   "source": [
    "if skewed values lied between -1 to greater than +1, then our data is heavily skewed."
   ]
  },
  {
   "cell_type": "code",
   "execution_count": 24,
   "id": "ebfd9233",
   "metadata": {},
   "outputs": [
    {
     "name": "stdout",
     "output_type": "stream",
     "text": [
      "Skewness of Open is: 1.0414285641685608\n"
     ]
    },
    {
     "data": {
      "image/png": "[encoded data removed]",
      "text/plain": [
       "<Figure size 432x288 with 1 Axes>"
      ]
     },
     "metadata": {
      "needs_background": "light"
     },
     "output_type": "display_data"
    },
    {
     "name": "stdout",
     "output_type": "stream",
     "text": [
      "Skewness of High is: 1.0502918405290051\n"
     ]
    },
    {
     "data": {
      "image/png": "[encoded data removed]",
      "text/plain": [
       "<Figure size 432x288 with 1 Axes>"
      ]
     },
     "metadata": {
      "needs_background": "light"
     },
     "output_type": "display_data"
    },
    {
     "name": "stdout",
     "output_type": "stream",
     "text": [
      "Skewness of Low is: 1.038413327280627\n"
     ]
    },
    {
     "data": {
      "image/png": "[encoded data removed]",
      "text/plain": [
       "<Figure size 432x288 with 1 Axes>"
      ]
     },
     "metadata": {
      "needs_background": "light"
     },
     "output_type": "display_data"
    },
    {
     "name": "stdout",
     "output_type": "stream",
     "text": [
      "Skewness of Close is: 1.0439923910642186\n"
     ]
    },
    {
     "data": {
      "image/png": "[encoded data removed]",
      "text/plain": [
       "<Figure size 432x288 with 1 Axes>"
      ]
     },
     "metadata": {
      "needs_background": "light"
     },
     "output_type": "display_data"
    },
    {
     "name": "stdout",
     "output_type": "stream",
     "text": [
      "Skewness of Volume is: 1.2095555541338792\n"
     ]
    },
    {
     "data": {
      "image/png": "[encoded data removed]",
      "text/plain": [
       "<Figure size 432x288 with 1 Axes>"
      ]
     },
     "metadata": {
      "needs_background": "light"
     },
     "output_type": "display_data"
    }
   ],
   "source": [
    "col_nums=Stock_Data[['Open','High','Low','Close','Volume']]\n",
    "col_nums\n",
    "\n",
    "for i in col_nums:\n",
    "    print(f\"Skewness of {i} is: {skew(Stock_Data[i])}\")\n",
    "    \n",
    "    sns.distplot(col_nums[i])\n",
    "    plt.show()"
   ]
  },
  {
   "cell_type": "markdown",
   "id": "dd7e6d6e",
   "metadata": {},
   "source": [
    "# Heat Maps\n",
    "\n",
    "Heat Maps is a type of plot which is necessary when we need to find the dependent variables. One of the best way to find the relationship between the features can be done using heat maps. "
   ]
  },
  {
   "cell_type": "code",
   "execution_count": 25,
   "id": "b1c70f77",
   "metadata": {},
   "outputs": [
    {
     "data": {
      "text/plain": [
       "<AxesSubplot:>"
      ]
     },
     "execution_count": 25,
     "metadata": {},
     "output_type": "execute_result"
    },
    {
     "data": {
      "image/png": "[encoded data removed]",
      "text/plain": [
       "<Figure size 432x288 with 2 Axes>"
      ]
     },
     "metadata": {
      "needs_background": "light"
     },
     "output_type": "display_data"
    }
   ],
   "source": [
    "# ploting the heatmap for dataset\n",
    "sns.heatmap(col_nums.corr(),annot=True)"
   ]
  },
  {
   "cell_type": "markdown",
   "id": "baaf95cd",
   "metadata": {},
   "source": [
    "• Now we have to remove the skewness for only those column where correlation with target is not that great.\n",
    "\n",
    "• here we can see that volume is the only column where correlation value with close is not good\n",
    "\n",
    "• so we have to remove skewness from volume column.\n"
   ]
  },
  {
   "cell_type": "code",
   "execution_count": 26,
   "id": "37f3def6",
   "metadata": {},
   "outputs": [
    {
     "name": "stdout",
     "output_type": "stream",
     "text": [
      "Skewness of Volume is 0.0\n"
     ]
    }
   ],
   "source": [
    "Stock_Data['Volume']=skew(Stock_Data['Volume'])\n",
    "print(f\"Skewness of Volume is\",skew(Stock_Data['Volume']))"
   ]
  },
  {
   "cell_type": "markdown",
   "id": "50108510",
   "metadata": {},
   "source": [
    "# Scatterplot\n",
    "\n",
    "We generally use scatter plots to find the correlation between two variables. Here the scatter plots are plotted between opening price and closing Price and we can see the plot below. With the plot given below, we can easily draw a trend line. These features provide a good scattering of points."
   ]
  },
  {
   "cell_type": "code",
   "execution_count": 27,
   "id": "b20e6a2d",
   "metadata": {},
   "outputs": [
    {
     "data": {
      "image/png": "[encoded data removed]",
      "text/plain": [
       "<Figure size 720x432 with 1 Axes>"
      ]
     },
     "metadata": {
      "needs_background": "light"
     },
     "output_type": "display_data"
    }
   ],
   "source": [
    "fig, ax = plt.subplots(figsize=(10,6))\n",
    "ax.scatter(Stock_Data['Open'], Stock_Data['Close'])\n",
    "ax.set_xlabel('Open')\n",
    "ax.set_ylabel('Close')\n",
    "plt.show()"
   ]
  },
  {
   "cell_type": "code",
   "execution_count": 28,
   "id": "075ff686",
   "metadata": {},
   "outputs": [
    {
     "data": {
      "text/html": [
       "<div>\n",
       "<style scoped>\n",
       "    .dataframe tbody tr th:only-of-type {\n",
       "        vertical-align: middle;\n",
       "    }\n",
       "\n",
       "    .dataframe tbody tr th {\n",
       "        vertical-align: top;\n",
       "    }\n",
       "\n",
       "    .dataframe thead th {\n",
       "        text-align: right;\n",
       "    }\n",
       "</style>\n",
       "<table border=\"1\" class=\"dataframe\">\n",
       "  <thead>\n",
       "    <tr style=\"text-align: right;\">\n",
       "      <th></th>\n",
       "      <th>Date</th>\n",
       "      <th>Open</th>\n",
       "      <th>High</th>\n",
       "      <th>Low</th>\n",
       "      <th>Close</th>\n",
       "      <th>Volume</th>\n",
       "    </tr>\n",
       "  </thead>\n",
       "  <tbody>\n",
       "    <tr>\n",
       "      <th>3</th>\n",
       "      <td>2004-08-24</td>\n",
       "      <td>55.675674</td>\n",
       "      <td>55.855858</td>\n",
       "      <td>51.836838</td>\n",
       "      <td>52.487488</td>\n",
       "      <td>1.209556</td>\n",
       "    </tr>\n",
       "    <tr>\n",
       "      <th>4</th>\n",
       "      <td>2004-08-25</td>\n",
       "      <td>52.532532</td>\n",
       "      <td>54.054054</td>\n",
       "      <td>51.991993</td>\n",
       "      <td>53.053055</td>\n",
       "      <td>1.209556</td>\n",
       "    </tr>\n",
       "    <tr>\n",
       "      <th>5</th>\n",
       "      <td>2004-08-26</td>\n",
       "      <td>52.527527</td>\n",
       "      <td>54.029030</td>\n",
       "      <td>52.382381</td>\n",
       "      <td>54.009010</td>\n",
       "      <td>1.209556</td>\n",
       "    </tr>\n",
       "    <tr>\n",
       "      <th>6</th>\n",
       "      <td>2004-08-27</td>\n",
       "      <td>54.104103</td>\n",
       "      <td>54.364365</td>\n",
       "      <td>52.897900</td>\n",
       "      <td>53.128128</td>\n",
       "      <td>1.209556</td>\n",
       "    </tr>\n",
       "    <tr>\n",
       "      <th>7</th>\n",
       "      <td>2004-08-30</td>\n",
       "      <td>52.692692</td>\n",
       "      <td>52.797798</td>\n",
       "      <td>51.056057</td>\n",
       "      <td>51.056057</td>\n",
       "      <td>1.209556</td>\n",
       "    </tr>\n",
       "    <tr>\n",
       "      <th>...</th>\n",
       "      <td>...</td>\n",
       "      <td>...</td>\n",
       "      <td>...</td>\n",
       "      <td>...</td>\n",
       "      <td>...</td>\n",
       "      <td>...</td>\n",
       "    </tr>\n",
       "    <tr>\n",
       "      <th>4179</th>\n",
       "      <td>2021-03-26</td>\n",
       "      <td>2031.790039</td>\n",
       "      <td>2039.390015</td>\n",
       "      <td>2003.849976</td>\n",
       "      <td>2024.729980</td>\n",
       "      <td>1.209556</td>\n",
       "    </tr>\n",
       "    <tr>\n",
       "      <th>4180</th>\n",
       "      <td>2021-03-29</td>\n",
       "      <td>2022.160034</td>\n",
       "      <td>2049.209961</td>\n",
       "      <td>2005.449951</td>\n",
       "      <td>2045.790039</td>\n",
       "      <td>1.209556</td>\n",
       "    </tr>\n",
       "    <tr>\n",
       "      <th>4181</th>\n",
       "      <td>2021-03-30</td>\n",
       "      <td>2052.979980</td>\n",
       "      <td>2062.669922</td>\n",
       "      <td>2036.150024</td>\n",
       "      <td>2046.469971</td>\n",
       "      <td>1.209556</td>\n",
       "    </tr>\n",
       "    <tr>\n",
       "      <th>4182</th>\n",
       "      <td>2021-03-31</td>\n",
       "      <td>2054.399902</td>\n",
       "      <td>2086.260010</td>\n",
       "      <td>2047.000000</td>\n",
       "      <td>2062.520020</td>\n",
       "      <td>1.209556</td>\n",
       "    </tr>\n",
       "    <tr>\n",
       "      <th>4183</th>\n",
       "      <td>2021-04-01</td>\n",
       "      <td>2092.250000</td>\n",
       "      <td>2135.750000</td>\n",
       "      <td>2091.429932</td>\n",
       "      <td>2129.780029</td>\n",
       "      <td>1.209556</td>\n",
       "    </tr>\n",
       "  </tbody>\n",
       "</table>\n",
       "<p>3861 rows × 6 columns</p>\n",
       "</div>"
      ],
      "text/plain": [
       "           Date         Open         High          Low        Close    Volume\n",
       "3    2004-08-24    55.675674    55.855858    51.836838    52.487488  1.209556\n",
       "4    2004-08-25    52.532532    54.054054    51.991993    53.053055  1.209556\n",
       "5    2004-08-26    52.527527    54.029030    52.382381    54.009010  1.209556\n",
       "6    2004-08-27    54.104103    54.364365    52.897900    53.128128  1.209556\n",
       "7    2004-08-30    52.692692    52.797798    51.056057    51.056057  1.209556\n",
       "...         ...          ...          ...          ...          ...       ...\n",
       "4179 2021-03-26  2031.790039  2039.390015  2003.849976  2024.729980  1.209556\n",
       "4180 2021-03-29  2022.160034  2049.209961  2005.449951  2045.790039  1.209556\n",
       "4181 2021-03-30  2052.979980  2062.669922  2036.150024  2046.469971  1.209556\n",
       "4182 2021-03-31  2054.399902  2086.260010  2047.000000  2062.520020  1.209556\n",
       "4183 2021-04-01  2092.250000  2135.750000  2091.429932  2129.780029  1.209556\n",
       "\n",
       "[3861 rows x 6 columns]"
      ]
     },
     "execution_count": 28,
     "metadata": {},
     "output_type": "execute_result"
    }
   ],
   "source": [
    "Stock_Data"
   ]
  },
  {
   "cell_type": "code",
   "execution_count": 29,
   "id": "313e2866",
   "metadata": {},
   "outputs": [
    {
     "data": {
      "text/plain": [
       "<AxesSubplot:xlabel='Date'>"
      ]
     },
     "execution_count": 29,
     "metadata": {},
     "output_type": "execute_result"
    },
    {
     "data": {
      "image/png": "[encoded data removed]",
      "text/plain": [
       "<Figure size 720x576 with 1 Axes>"
      ]
     },
     "metadata": {
      "needs_background": "light"
     },
     "output_type": "display_data"
    },
    {
     "data": {
      "image/png": "[encoded data removed]",
      "text/plain": [
       "<Figure size 720x576 with 1 Axes>"
      ]
     },
     "metadata": {
      "needs_background": "light"
     },
     "output_type": "display_data"
    }
   ],
   "source": [
    "Stock_Data.plot(x='Date',y='Close',figsize=(10,8))\n",
    "Stock_Data.plot(x='Date',y='Open',figsize=(10,8))\n"
   ]
  },
  {
   "cell_type": "code",
   "execution_count": 53,
   "id": "09722552",
   "metadata": {},
   "outputs": [
    {
     "data": {
      "text/html": [
       "<div>\n",
       "<style scoped>\n",
       "    .dataframe tbody tr th:only-of-type {\n",
       "        vertical-align: middle;\n",
       "    }\n",
       "\n",
       "    .dataframe tbody tr th {\n",
       "        vertical-align: top;\n",
       "    }\n",
       "\n",
       "    .dataframe thead th {\n",
       "        text-align: right;\n",
       "    }\n",
       "</style>\n",
       "<table border=\"1\" class=\"dataframe\">\n",
       "  <thead>\n",
       "    <tr style=\"text-align: right;\">\n",
       "      <th></th>\n",
       "      <th>Open</th>\n",
       "      <th>High</th>\n",
       "      <th>Low</th>\n",
       "    </tr>\n",
       "  </thead>\n",
       "  <tbody>\n",
       "    <tr>\n",
       "      <th>3</th>\n",
       "      <td>55.675674</td>\n",
       "      <td>55.855858</td>\n",
       "      <td>51.836838</td>\n",
       "    </tr>\n",
       "    <tr>\n",
       "      <th>4</th>\n",
       "      <td>52.532532</td>\n",
       "      <td>54.054054</td>\n",
       "      <td>51.991993</td>\n",
       "    </tr>\n",
       "    <tr>\n",
       "      <th>5</th>\n",
       "      <td>52.527527</td>\n",
       "      <td>54.029030</td>\n",
       "      <td>52.382381</td>\n",
       "    </tr>\n",
       "    <tr>\n",
       "      <th>6</th>\n",
       "      <td>54.104103</td>\n",
       "      <td>54.364365</td>\n",
       "      <td>52.897900</td>\n",
       "    </tr>\n",
       "    <tr>\n",
       "      <th>7</th>\n",
       "      <td>52.692692</td>\n",
       "      <td>52.797798</td>\n",
       "      <td>51.056057</td>\n",
       "    </tr>\n",
       "    <tr>\n",
       "      <th>...</th>\n",
       "      <td>...</td>\n",
       "      <td>...</td>\n",
       "      <td>...</td>\n",
       "    </tr>\n",
       "    <tr>\n",
       "      <th>4179</th>\n",
       "      <td>2031.790039</td>\n",
       "      <td>2039.390015</td>\n",
       "      <td>2003.849976</td>\n",
       "    </tr>\n",
       "    <tr>\n",
       "      <th>4180</th>\n",
       "      <td>2022.160034</td>\n",
       "      <td>2049.209961</td>\n",
       "      <td>2005.449951</td>\n",
       "    </tr>\n",
       "    <tr>\n",
       "      <th>4181</th>\n",
       "      <td>2052.979980</td>\n",
       "      <td>2062.669922</td>\n",
       "      <td>2036.150024</td>\n",
       "    </tr>\n",
       "    <tr>\n",
       "      <th>4182</th>\n",
       "      <td>2054.399902</td>\n",
       "      <td>2086.260010</td>\n",
       "      <td>2047.000000</td>\n",
       "    </tr>\n",
       "    <tr>\n",
       "      <th>4183</th>\n",
       "      <td>2092.250000</td>\n",
       "      <td>2135.750000</td>\n",
       "      <td>2091.429932</td>\n",
       "    </tr>\n",
       "  </tbody>\n",
       "</table>\n",
       "<p>3861 rows × 3 columns</p>\n",
       "</div>"
      ],
      "text/plain": [
       "             Open         High          Low\n",
       "3       55.675674    55.855858    51.836838\n",
       "4       52.532532    54.054054    51.991993\n",
       "5       52.527527    54.029030    52.382381\n",
       "6       54.104103    54.364365    52.897900\n",
       "7       52.692692    52.797798    51.056057\n",
       "...           ...          ...          ...\n",
       "4179  2031.790039  2039.390015  2003.849976\n",
       "4180  2022.160034  2049.209961  2005.449951\n",
       "4181  2052.979980  2062.669922  2036.150024\n",
       "4182  2054.399902  2086.260010  2047.000000\n",
       "4183  2092.250000  2135.750000  2091.429932\n",
       "\n",
       "[3861 rows x 3 columns]"
      ]
     },
     "execution_count": 53,
     "metadata": {},
     "output_type": "execute_result"
    }
   ],
   "source": [
    "# Separating the independent variables from dependent variables\n",
    "\n",
    "x = Stock_Data[['Open','High','Low',]]\n",
    "x"
   ]
  },
  {
   "cell_type": "code",
   "execution_count": 54,
   "id": "2a4a35ed",
   "metadata": {},
   "outputs": [
    {
     "data": {
      "text/plain": [
       "3         52.487488\n",
       "4         53.053055\n",
       "5         54.009010\n",
       "6         53.128128\n",
       "7         51.056057\n",
       "           ...     \n",
       "4179    2024.729980\n",
       "4180    2045.790039\n",
       "4181    2046.469971\n",
       "4182    2062.520020\n",
       "4183    2129.780029\n",
       "Name: Close, Length: 3861, dtype: float64"
      ]
     },
     "execution_count": 54,
     "metadata": {},
     "output_type": "execute_result"
    }
   ],
   "source": [
    "y=Stock_Data['Close']\n",
    "y"
   ]
  },
  {
   "cell_type": "markdown",
   "id": "bb22b34f",
   "metadata": {},
   "source": [
    "# Train Test Split"
   ]
  },
  {
   "cell_type": "code",
   "execution_count": 55,
   "id": "ca4b18a8",
   "metadata": {},
   "outputs": [],
   "source": [
    "#Building the regression model\n",
    "from sklearn.model_selection import train_test_split\n",
    "\n",
    "#For preprocessing\n",
    "from sklearn.preprocessing import StandardScaler\n",
    "\n",
    "#For Model Evaluation\n",
    "from sklearn.metrics import confusion_matrix,accuracy_score,r2_score,mean_absolute_error,mean_squared_error\n"
   ]
  },
  {
   "cell_type": "code",
   "execution_count": 56,
   "id": "0916e67b",
   "metadata": {},
   "outputs": [],
   "source": [
    "xtrain,xtest,ytrain,ytest=train_test_split(x,y,test_size=0.3,random_state=1)"
   ]
  },
  {
   "cell_type": "code",
   "execution_count": 57,
   "id": "d3d73b0c",
   "metadata": {},
   "outputs": [
    {
     "data": {
      "text/plain": [
       "(2702, 3)"
      ]
     },
     "execution_count": 57,
     "metadata": {},
     "output_type": "execute_result"
    }
   ],
   "source": [
    "xtrain.shape"
   ]
  },
  {
   "cell_type": "code",
   "execution_count": 58,
   "id": "3583ed0e",
   "metadata": {},
   "outputs": [
    {
     "data": {
      "text/plain": [
       "(1159, 3)"
      ]
     },
     "execution_count": 58,
     "metadata": {},
     "output_type": "execute_result"
    }
   ],
   "source": [
    "xtest.shape"
   ]
  },
  {
   "cell_type": "markdown",
   "id": "bd3086d8",
   "metadata": {},
   "source": [
    "# Training and Fitting the model\n"
   ]
  },
  {
   "cell_type": "code",
   "execution_count": 59,
   "id": "67a31f49",
   "metadata": {},
   "outputs": [],
   "source": [
    "from sklearn.linear_model import LinearRegression"
   ]
  },
  {
   "cell_type": "code",
   "execution_count": 60,
   "id": "73795e49",
   "metadata": {},
   "outputs": [],
   "source": [
    "LinReg=LinearRegression()"
   ]
  },
  {
   "cell_type": "code",
   "execution_count": 61,
   "id": "156c4806",
   "metadata": {},
   "outputs": [
    {
     "data": {
      "text/html": [
       "<style>#sk-container-id-2 {color: black;background-color: white;}#sk-container-id-2 pre{padding: 0;}#sk-container-id-2 div.sk-toggleable {background-color: white;}#sk-container-id-2 label.sk-toggleable__label {cursor: pointer;display: block;width: 100%;margin-bottom: 0;padding: 0.3em;box-sizing: border-box;text-align: center;}#sk-container-id-2 label.sk-toggleable__label-arrow:before {content: \"▸\";float: left;margin-right: 0.25em;color: #696969;}#sk-container-id-2 label.sk-toggleable__label-arrow:hover:before {color: black;}#sk-container-id-2 div.sk-estimator:hover label.sk-toggleable__label-arrow:before {color: black;}#sk-container-id-2 div.sk-toggleable__content {max-height: 0;max-width: 0;overflow: hidden;text-align: left;background-color: #f0f8ff;}#sk-container-id-2 div.sk-toggleable__content pre {margin: 0.2em;color: black;border-radius: 0.25em;background-color: #f0f8ff;}#sk-container-id-2 input.sk-toggleable__control:checked~div.sk-toggleable__content {max-height: 200px;max-width: 100%;overflow: auto;}#sk-container-id-2 input.sk-toggleable__control:checked~label.sk-toggleable__label-arrow:before {content: \"▾\";}#sk-container-id-2 div.sk-estimator input.sk-toggleable__control:checked~label.sk-toggleable__label {background-color: #d4ebff;}#sk-container-id-2 div.sk-label input.sk-toggleable__control:checked~label.sk-toggleable__label {background-color: #d4ebff;}#sk-container-id-2 input.sk-hidden--visually {border: 0;clip: rect(1px 1px 1px 1px);clip: rect(1px, 1px, 1px, 1px);height: 1px;margin: -1px;overflow: hidden;padding: 0;position: absolute;width: 1px;}#sk-container-id-2 div.sk-estimator {font-family: monospace;background-color: #f0f8ff;border: 1px dotted black;border-radius: 0.25em;box-sizing: border-box;margin-bottom: 0.5em;}#sk-container-id-2 div.sk-estimator:hover {background-color: #d4ebff;}#sk-container-id-2 div.sk-parallel-item::after {content: \"\";width: 100%;border-bottom: 1px solid gray;flex-grow: 1;}#sk-container-id-2 div.sk-label:hover label.sk-toggleable__label {background-color: #d4ebff;}#sk-container-id-2 div.sk-serial::before {content: \"\";position: absolute;border-left: 1px solid gray;box-sizing: border-box;top: 0;bottom: 0;left: 50%;z-index: 0;}#sk-container-id-2 div.sk-serial {display: flex;flex-direction: column;align-items: center;background-color: white;padding-right: 0.2em;padding-left: 0.2em;position: relative;}#sk-container-id-2 div.sk-item {position: relative;z-index: 1;}#sk-container-id-2 div.sk-parallel {display: flex;align-items: stretch;justify-content: center;background-color: white;position: relative;}#sk-container-id-2 div.sk-item::before, #sk-container-id-2 div.sk-parallel-item::before {content: \"\";position: absolute;border-left: 1px solid gray;box-sizing: border-box;top: 0;bottom: 0;left: 50%;z-index: -1;}#sk-container-id-2 div.sk-parallel-item {display: flex;flex-direction: column;z-index: 1;position: relative;background-color: white;}#sk-container-id-2 div.sk-parallel-item:first-child::after {align-self: flex-end;width: 50%;}#sk-container-id-2 div.sk-parallel-item:last-child::after {align-self: flex-start;width: 50%;}#sk-container-id-2 div.sk-parallel-item:only-child::after {width: 0;}#sk-container-id-2 div.sk-dashed-wrapped {border: 1px dashed gray;margin: 0 0.4em 0.5em 0.4em;box-sizing: border-box;padding-bottom: 0.4em;background-color: white;}#sk-container-id-2 div.sk-label label {font-family: monospace;font-weight: bold;display: inline-block;line-height: 1.2em;}#sk-container-id-2 div.sk-label-container {text-align: center;}#sk-container-id-2 div.sk-container {/* jupyter's `normalize.less` sets `[hidden] { display: none; }` but bootstrap.min.css set `[hidden] { display: none !important; }` so we also need the `!important` here to be able to override the default hidden behavior on the sphinx rendered scikit-learn.org. See: https://github.com/scikit-learn/scikit-learn/issues/21755 */display: inline-block !important;position: relative;}#sk-container-id-2 div.sk-text-repr-fallback {display: none;}</style><div id=\"sk-container-id-2\" class=\"sk-top-container\"><div class=\"sk-text-repr-fallback\"><pre>LinearRegression()</pre><b>In a Jupyter environment, please rerun this cell to show the HTML representation or trust the notebook. <br />On GitHub, the HTML representation is unable to render, please try loading this page with nbviewer.org.</b></div><div class=\"sk-container\" hidden><div class=\"sk-item\"><div class=\"sk-estimator sk-toggleable\"><input class=\"sk-toggleable__control sk-hidden--visually\" id=\"sk-estimator-id-2\" type=\"checkbox\" checked><label for=\"sk-estimator-id-2\" class=\"sk-toggleable__label sk-toggleable__label-arrow\">LinearRegression</label><div class=\"sk-toggleable__content\"><pre>LinearRegression()</pre></div></div></div></div></div>"
      ],
      "text/plain": [
       "LinearRegression()"
      ]
     },
     "execution_count": 61,
     "metadata": {},
     "output_type": "execute_result"
    }
   ],
   "source": [
    "LinReg.fit(xtrain,ytrain)"
   ]
  },
  {
   "cell_type": "code",
   "execution_count": 62,
   "id": "e9e13b3e",
   "metadata": {},
   "outputs": [
    {
     "name": "stdout",
     "output_type": "stream",
     "text": [
      "[-0.56294418  0.81329917  0.74919208]\n"
     ]
    }
   ],
   "source": [
    "print(LinReg.coef_)"
   ]
  },
  {
   "cell_type": "code",
   "execution_count": 63,
   "id": "fee044b8",
   "metadata": {},
   "outputs": [
    {
     "name": "stdout",
     "output_type": "stream",
     "text": [
      "0.16942478900250535\n"
     ]
    }
   ],
   "source": [
    "print(LinReg.intercept_)"
   ]
  },
  {
   "cell_type": "code",
   "execution_count": 64,
   "id": "91dcc6cc",
   "metadata": {},
   "outputs": [],
   "source": [
    "ypredict=LinReg.predict(xtest)"
   ]
  },
  {
   "cell_type": "code",
   "execution_count": 65,
   "id": "012c444b",
   "metadata": {},
   "outputs": [
    {
     "name": "stdout",
     "output_type": "stream",
     "text": [
      "             Open         High          Low\n",
      "1450   240.605606   245.140137   238.638641\n",
      "2179   393.768768   395.815826   389.439453\n",
      "2803   677.400024   678.739990   658.109985\n",
      "1301   276.621613   277.077087   274.639648\n",
      "190    120.725723   120.955956   119.944946\n",
      "...           ...          ...          ...\n",
      "2054   376.301300   377.812805   372.422424\n",
      "3376  1136.359985  1139.319946  1123.489990\n",
      "968    272.842834   275.870880   267.817810\n",
      "2868   731.950012   735.080017   719.559998\n",
      "491    192.747742   193.078079   187.942947\n",
      "\n",
      "[1159 rows x 3 columns]\n"
     ]
    }
   ],
   "source": [
    "print(xtest)"
   ]
  },
  {
   "cell_type": "code",
   "execution_count": 66,
   "id": "a2715425",
   "metadata": {},
   "outputs": [
    {
     "data": {
      "text/plain": [
       "(1159,)"
      ]
     },
     "execution_count": 66,
     "metadata": {},
     "output_type": "execute_result"
    }
   ],
   "source": [
    "ypredict.shape"
   ]
  },
  {
   "cell_type": "code",
   "execution_count": 67,
   "id": "7c7c3833",
   "metadata": {},
   "outputs": [],
   "source": [
    "Stock_Dataframe=pd.DataFrame(ytest,ypredict)"
   ]
  },
  {
   "cell_type": "code",
   "execution_count": 68,
   "id": "ddee3a05",
   "metadata": {},
   "outputs": [],
   "source": [
    "Data=pd.DataFrame({'Actual Price':ytest,'Predicted price':ypredict})"
   ]
  },
  {
   "cell_type": "code",
   "execution_count": 69,
   "id": "e8c4bf62",
   "metadata": {},
   "outputs": [
    {
     "data": {
      "text/html": [
       "<div>\n",
       "<style scoped>\n",
       "    .dataframe tbody tr th:only-of-type {\n",
       "        vertical-align: middle;\n",
       "    }\n",
       "\n",
       "    .dataframe tbody tr th {\n",
       "        vertical-align: top;\n",
       "    }\n",
       "\n",
       "    .dataframe thead th {\n",
       "        text-align: right;\n",
       "    }\n",
       "</style>\n",
       "<table border=\"1\" class=\"dataframe\">\n",
       "  <thead>\n",
       "    <tr style=\"text-align: right;\">\n",
       "      <th></th>\n",
       "      <th>Actual Price</th>\n",
       "      <th>Predicted price</th>\n",
       "    </tr>\n",
       "  </thead>\n",
       "  <tbody>\n",
       "    <tr>\n",
       "      <th>1450</th>\n",
       "      <td>238.818817</td>\n",
       "      <td>242.880348</td>\n",
       "    </tr>\n",
       "    <tr>\n",
       "      <th>2179</th>\n",
       "      <td>391.671661</td>\n",
       "      <td>392.181223</td>\n",
       "    </tr>\n",
       "    <tr>\n",
       "      <th>2803</th>\n",
       "      <td>670.000000</td>\n",
       "      <td>663.900479</td>\n",
       "    </tr>\n",
       "    <tr>\n",
       "      <th>1301</th>\n",
       "      <td>276.321320</td>\n",
       "      <td>275.551310</td>\n",
       "    </tr>\n",
       "    <tr>\n",
       "      <th>190</th>\n",
       "      <td>120.925926</td>\n",
       "      <td>120.442763</td>\n",
       "    </tr>\n",
       "    <tr>\n",
       "      <th>1703</th>\n",
       "      <td>259.389374</td>\n",
       "      <td>261.125804</td>\n",
       "    </tr>\n",
       "    <tr>\n",
       "      <th>4166</th>\n",
       "      <td>2040.359985</td>\n",
       "      <td>2049.914320</td>\n",
       "    </tr>\n",
       "    <tr>\n",
       "      <th>2656</th>\n",
       "      <td>559.849976</td>\n",
       "      <td>562.944984</td>\n",
       "    </tr>\n",
       "    <tr>\n",
       "      <th>2207</th>\n",
       "      <td>441.076080</td>\n",
       "      <td>444.515894</td>\n",
       "    </tr>\n",
       "    <tr>\n",
       "      <th>1488</th>\n",
       "      <td>233.323318</td>\n",
       "      <td>233.008969</td>\n",
       "    </tr>\n",
       "    <tr>\n",
       "      <th>826</th>\n",
       "      <td>348.848846</td>\n",
       "      <td>349.517079</td>\n",
       "    </tr>\n",
       "    <tr>\n",
       "      <th>3901</th>\n",
       "      <td>1524.869995</td>\n",
       "      <td>1524.896811</td>\n",
       "    </tr>\n",
       "    <tr>\n",
       "      <th>2246</th>\n",
       "      <td>452.352356</td>\n",
       "      <td>452.531583</td>\n",
       "    </tr>\n",
       "    <tr>\n",
       "      <th>682</th>\n",
       "      <td>233.868866</td>\n",
       "      <td>234.519422</td>\n",
       "    </tr>\n",
       "    <tr>\n",
       "      <th>1865</th>\n",
       "      <td>312.807800</td>\n",
       "      <td>311.801921</td>\n",
       "    </tr>\n",
       "    <tr>\n",
       "      <th>2568</th>\n",
       "      <td>560.270020</td>\n",
       "      <td>557.038043</td>\n",
       "    </tr>\n",
       "    <tr>\n",
       "      <th>2563</th>\n",
       "      <td>553.650024</td>\n",
       "      <td>553.535627</td>\n",
       "    </tr>\n",
       "    <tr>\n",
       "      <th>1653</th>\n",
       "      <td>285.280273</td>\n",
       "      <td>287.168648</td>\n",
       "    </tr>\n",
       "    <tr>\n",
       "      <th>3799</th>\n",
       "      <td>1234.689941</td>\n",
       "      <td>1234.756070</td>\n",
       "    </tr>\n",
       "    <tr>\n",
       "      <th>917</th>\n",
       "      <td>228.953949</td>\n",
       "      <td>230.232753</td>\n",
       "    </tr>\n",
       "    <tr>\n",
       "      <th>1241</th>\n",
       "      <td>223.583588</td>\n",
       "      <td>223.865616</td>\n",
       "    </tr>\n",
       "    <tr>\n",
       "      <th>20</th>\n",
       "      <td>58.803802</td>\n",
       "      <td>58.334193</td>\n",
       "    </tr>\n",
       "    <tr>\n",
       "      <th>3992</th>\n",
       "      <td>1397.170044</td>\n",
       "      <td>1384.011683</td>\n",
       "    </tr>\n",
       "    <tr>\n",
       "      <th>3089</th>\n",
       "      <td>779.000000</td>\n",
       "      <td>776.692976</td>\n",
       "    </tr>\n",
       "    <tr>\n",
       "      <th>4036</th>\n",
       "      <td>1629.530029</td>\n",
       "      <td>1630.086096</td>\n",
       "    </tr>\n",
       "  </tbody>\n",
       "</table>\n",
       "</div>"
      ],
      "text/plain": [
       "      Actual Price  Predicted price\n",
       "1450    238.818817       242.880348\n",
       "2179    391.671661       392.181223\n",
       "2803    670.000000       663.900479\n",
       "1301    276.321320       275.551310\n",
       "190     120.925926       120.442763\n",
       "1703    259.389374       261.125804\n",
       "4166   2040.359985      2049.914320\n",
       "2656    559.849976       562.944984\n",
       "2207    441.076080       444.515894\n",
       "1488    233.323318       233.008969\n",
       "826     348.848846       349.517079\n",
       "3901   1524.869995      1524.896811\n",
       "2246    452.352356       452.531583\n",
       "682     233.868866       234.519422\n",
       "1865    312.807800       311.801921\n",
       "2568    560.270020       557.038043\n",
       "2563    553.650024       553.535627\n",
       "1653    285.280273       287.168648\n",
       "3799   1234.689941      1234.756070\n",
       "917     228.953949       230.232753\n",
       "1241    223.583588       223.865616\n",
       "20       58.803802        58.334193\n",
       "3992   1397.170044      1384.011683\n",
       "3089    779.000000       776.692976\n",
       "4036   1629.530029      1630.086096"
      ]
     },
     "execution_count": 69,
     "metadata": {},
     "output_type": "execute_result"
    }
   ],
   "source": [
    "Data.head(25)"
   ]
  },
  {
   "cell_type": "code",
   "execution_count": 70,
   "id": "3c204e95",
   "metadata": {},
   "outputs": [
    {
     "data": {
      "text/plain": [
       "0.9998796448473543"
      ]
     },
     "execution_count": 70,
     "metadata": {},
     "output_type": "execute_result"
    }
   ],
   "source": [
    "LinReg.score(xtest,ytest)"
   ]
  },
  {
   "cell_type": "code",
   "execution_count": 71,
   "id": "66550f8a",
   "metadata": {},
   "outputs": [
    {
     "data": {
      "text/plain": [
       "0.9999014556481864"
      ]
     },
     "execution_count": 71,
     "metadata": {},
     "output_type": "execute_result"
    }
   ],
   "source": [
    "LinReg.score(xtrain,ytrain)"
   ]
  },
  {
   "cell_type": "code",
   "execution_count": 72,
   "id": "965e1321",
   "metadata": {},
   "outputs": [
    {
     "data": {
      "text/plain": [
       "<AxesSubplot:>"
      ]
     },
     "execution_count": 72,
     "metadata": {},
     "output_type": "execute_result"
    },
    {
     "data": {
      "image/png": "[encoded data removed]",
      "text/plain": [
       "<Figure size 1080x432 with 1 Axes>"
      ]
     },
     "metadata": {
      "needs_background": "light"
     },
     "output_type": "display_data"
    }
   ],
   "source": [
    "Data.head(40).plot(kind=\"bar\",figsize=(15,6))"
   ]
  },
  {
   "cell_type": "code",
   "execution_count": 73,
   "id": "6b8f0e1b",
   "metadata": {},
   "outputs": [],
   "source": [
    "import math"
   ]
  },
  {
   "cell_type": "code",
   "execution_count": 74,
   "id": "ac3dbc28",
   "metadata": {},
   "outputs": [
    {
     "name": "stdout",
     "output_type": "stream",
     "text": [
      "MAE: 2.629091656454598\n",
      "RMSE: 4.826619128006954\n",
      "Accuracy of model: 99.98796448473543\n"
     ]
    }
   ],
   "source": [
    "print(f\"MAE: {mean_absolute_error(ytest, ypredict)}\")\n",
    "print(f\"RMSE: {np.sqrt(mean_squared_error(ytest, ypredict))}\")\n",
    "print(f\"Accuracy of model: {r2_score(ytest, ypredict) * 100}\")"
   ]
  },
  {
   "cell_type": "markdown",
   "id": "73236439",
   "metadata": {},
   "source": [
    "# Prediction for Unknown Data:"
   ]
  },
  {
   "cell_type": "code",
   "execution_count": 78,
   "id": "05342658",
   "metadata": {},
   "outputs": [
    {
     "data": {
      "text/plain": [
       "array([21.50312296, 17.14446817, 58.30122691, 42.42175896])"
      ]
     },
     "execution_count": 78,
     "metadata": {},
     "output_type": "execute_result"
    }
   ],
   "source": [
    "LinReg.predict([[20,24,17.45],[43,23,30],[20,54,34],[23,43,27]])"
   ]
  },
  {
   "cell_type": "code",
   "execution_count": 79,
   "id": "fcc719de",
   "metadata": {},
   "outputs": [
    {
     "name": "stdout",
     "output_type": "stream",
     "text": [
      "Enter the opening price of share:45\n",
      "Enter the Highest price of share:67\n",
      "Enter the Lowest price of share:65\n",
      "Closing price for share will be [78.02546597]\n"
     ]
    }
   ],
   "source": [
    "Open=float(input(\"Enter the opening price of share:\"))\n",
    "High=float(input(\"Enter the Highest price of share:\"))\n",
    "Low=float(input(\"Enter the Lowest price of share:\"))\n",
    "\n",
    "Stock=[[Open,High,Low]]\n",
    "Close=LinReg.predict(Stock)\n",
    "print(f\"Closing price for share will be {Close}\")"
   ]
  }
 ],
 "metadata": {
  "kernelspec": {
   "display_name": "Python 3 (ipykernel)",
   "language": "python",
   "name": "python3"
  },
  "language_info": {
   "codemirror_mode": {
    "name": "ipython",
    "version": 3
   },
   "file_extension": ".py",
   "mimetype": "text/x-python",
   "name": "python",
   "nbconvert_exporter": "python",
   "pygments_lexer": "ipython3",
   "version": "3.9.13"
  }
 },
 "nbformat": 4,
 "nbformat_minor": 5
}
